{
 "cells": [
  {
   "cell_type": "markdown",
   "metadata": {},
   "source": [
    "# Project Description\n",
    "\n",
    "For this project, you will be investigating a medical insurance costs dataset in a .csv file using the Python skills that you've developed. This dataset and its parameters will seem familiar if you've done any of the previous Python projects in the data science path.\n",
    "\n",
    "However, you're now tasked with working with the actual information in the dataset and performing your own independent analysis on real-world data! We will not be providing step-by-step instructions on what to do, but we will provide you with a framework to structure your exploration and analysis.For this project, you will be investigating a medical insurance costs dataset in a .csv file using the Python skills that you've developed. This dataset and its parameters will seem familiar if you've done any of the previous Python projects in the data science path.\n",
    "\n",
    "However, you're now tasked with working with the actual information in the dataset and performing your own independent analysis on real-world data! We will not be providing step-by-step instructions on what to do, but we will provide you with a framework to structure your exploration and analysis.\n",
    "\n",
    "# Project Objectives\n",
    "\n",
    "- Work locally on your own computer\n",
    "- Import a dataset into your program\n",
    "- Analyze a dataset by building out functions or class methods\n",
    "- Use libraries to assist in your analysis\n",
    "- Optional: Document and organize your findings\n",
    "- Optional: Make predictions about a dataset’s features based on your findings\n",
    "\n",
    "# Project Requirements\n",
    "\n",
    "- This project was built using Python 3.11 and Jupyter Notebook.\n",
    "- You will need to install the following libraries:\n",
    "    - matplotlib (For data visualization, this is not a requirement, but plots won't be shown if you don't have it installed)"
   ]
  },
  {
   "cell_type": "markdown",
   "metadata": {},
   "source": [
    "# Project: U.S. Medical Insurance Costs\n",
    "\n",
    "A dataset containing information on medical insurance costs for individuals in the United States was provided by Codecademy.\n",
    "To learn about the dataset, I first want to explore the data and get a feel for what it contains.\n",
    "For that, I will use python to import the CSV file and print the headers and the number of rows.\n",
    "\n",
    "I'm also going to save the contents of the CSV file in a list of dictionaries, where each dictionary represents a row of the dataset.\n",
    "I will do this to avoid having to read the CSV file multiple times."
   ]
  },
  {
   "cell_type": "markdown",
   "metadata": {},
   "source": [
    "Note: This next cell *needs* to be run first, otherwise the rest of the notebook will not work."
   ]
  },
  {
   "cell_type": "code",
   "execution_count": null,
   "metadata": {
    "ExecuteTime": {
     "start_time": "2023-04-27T11:36:27.989528Z",
     "end_time": "2023-04-27T11:36:28.281851Z"
    }
   },
   "outputs": [],
   "source": [
    "import csv\n",
    "\n",
    "# Modify this if the file is in a different location\n",
    "FILE_PATH = '../data/insurance.csv'\n",
    "\n",
    "# Read the CSV file and save the contents in a list of dictionaries\n",
    "with open(FILE_PATH) as insurance_csv:\n",
    "    insurance_dict = csv.DictReader(insurance_csv)\n",
    "    INSURANCE_DATA = list(insurance_dict)\n",
    "\n",
    "    # Show the information of the dataset\n",
    "    print('Headers:', insurance_dict.fieldnames)\n",
    "    print('Number of rows:', len(INSURANCE_DATA))"
   ]
  },
  {
   "cell_type": "markdown",
   "metadata": {},
   "source": [
    "## What I found\n",
    "From the headers, we can see that the data is organized by the following:\n",
    "(The Data type is not included in the headers, but I will include it in the table below)\n",
    "\n",
    "| Field Name | Data Type |\n",
    "|------------|-----------|\n",
    "| age        | int       |\n",
    "| sex        | str       |\n",
    "| bmi        | float     |\n",
    "| children   | int       |\n",
    "| smoker     | str       |\n",
    "| region     | str       |\n",
    "| charges    | float     |\n",
    "\n",
    "There are 1338 rows in the dataset.\n",
    "\n",
    "Additionally, Codecademy provided the following information about the dataset:\n",
    "\n",
    "- There is no missing data (the dataset has been cleaned too).\n",
    "- There are seven columns.\n",
    "- Some columns are numerical while some are categorical.\n",
    "\n",
    "## What I would change about the dataset\n",
    "\n",
    "I would change the data type of the `sex` and `smoker` fields to be `bool` instead of `str`.\n",
    "This would make it easier to work with the data in Python.\n",
    "This wasn't done in this project because the focus was on learning how to work with data in Python, not on cleaning the data."
   ]
  },
  {
   "cell_type": "markdown",
   "metadata": {},
   "source": [
    "# Exploring the data\n",
    "\n",
    "Now that I know how the dataset is organized, I'm going to explore the dataset by exploring different fields and their statistics."
   ]
  },
  {
   "cell_type": "markdown",
   "metadata": {},
   "source": [
    "### Statistics (Numerical Fields)\n",
    "\n",
    "First, I want to find the average, median, mode, and standard deviation of each field. This will give me a general idea of the data.\n",
    "Additionally, I will add a boxplot to visualize the data for each field."
   ]
  },
  {
   "cell_type": "markdown",
   "metadata": {},
   "source": [
    "#### Average, median, mode, standard deviation and percentiles\n",
    "\n",
    "To find the average, median, mode, standard deviation and percentiles of each field, I will create functions for each of these statistics."
   ]
  },
  {
   "cell_type": "markdown",
   "metadata": {},
   "source": [
    "##### Average"
   ]
  },
  {
   "cell_type": "code",
   "execution_count": null,
   "metadata": {
    "ExecuteTime": {
     "start_time": "2023-04-27T11:36:28.020393Z",
     "end_time": "2023-04-27T11:36:28.283217Z"
    }
   },
   "outputs": [],
   "source": [
    "def find_average_on_numeric_field(data: list[dict], field_name: str) -> float:\n",
    "    \"\"\"\n",
    "    Find the average of a numeric field in a list of dictionaries.\n",
    "    The average is rounded to two decimal places.\n",
    "\n",
    "    Args:\n",
    "        data (list): A list of dictionaries.\n",
    "        field_name (str): The name of the field to find the average of.\n",
    "\n",
    "    Returns:\n",
    "        float: The average of the field.\n",
    "    \"\"\"\n",
    "    return round(sum([float(row[field_name]) for row in data]) / len(data), 2)"
   ]
  },
  {
   "cell_type": "markdown",
   "metadata": {},
   "source": []
  },
  {
   "cell_type": "markdown",
   "metadata": {},
   "source": [
    "##### Median"
   ]
  },
  {
   "cell_type": "code",
   "execution_count": null,
   "metadata": {
    "ExecuteTime": {
     "start_time": "2023-04-27T11:36:28.026294Z",
     "end_time": "2023-04-27T11:36:28.283857Z"
    }
   },
   "outputs": [],
   "source": [
    "def find_median_on_numeric_field(data: list[dict], field_name: str) -> float:\n",
    "    \"\"\"\n",
    "    Find the median of a numeric field in a list of dictionaries.\n",
    "    The median is rounded to two decimal places.\n",
    "\n",
    "    Args:\n",
    "        data (list): A list of dictionaries.\n",
    "        field_name (str): The name of the field to find the median of.\n",
    "\n",
    "    Returns:\n",
    "        float: The median of the field.\n",
    "    \"\"\"\n",
    "    sorted_data = sorted([float(row[field_name]) for row in data])\n",
    "    if len(sorted_data) % 2 == 0:\n",
    "        calculated_median = (sorted_data[len(sorted_data) // 2] + sorted_data[len(sorted_data) // 2 - 1]) / 2\n",
    "    else:\n",
    "        calculated_median = sorted_data[len(sorted_data) // 2]\n",
    "\n",
    "    return round(calculated_median, 2)"
   ]
  },
  {
   "cell_type": "markdown",
   "metadata": {},
   "source": [
    "##### Mode"
   ]
  },
  {
   "cell_type": "code",
   "execution_count": null,
   "metadata": {
    "ExecuteTime": {
     "start_time": "2023-04-27T11:36:28.030855Z",
     "end_time": "2023-04-27T11:36:28.284351Z"
    }
   },
   "outputs": [],
   "source": [
    "def find_mode_on_numeric_field(data: list[dict], field_name: str):\n",
    "    \"\"\"\n",
    "    Find the mode of a numeric field in a list of dictionaries.\n",
    "\n",
    "    Args:\n",
    "        data (list): A list of dictionaries.\n",
    "        field_name (str): The name of the field to find the mode of.\n",
    "\n",
    "    Returns:\n",
    "        tuple: The mode of the field and the number of times the mode appears.\n",
    "    \"\"\"\n",
    "    value_counts = {}\n",
    "    for row in data:\n",
    "        if float(row[field_name]) in value_counts:\n",
    "            value_counts[float(row[field_name])] += 1\n",
    "        else:\n",
    "            value_counts[float(row[field_name])] = 1\n",
    "\n",
    "    calculated_mode = max(value_counts, key=value_counts.get)\n",
    "    return calculated_mode, value_counts[calculated_mode]"
   ]
  },
  {
   "cell_type": "markdown",
   "metadata": {},
   "source": [
    "##### Standard Deviation"
   ]
  },
  {
   "cell_type": "code",
   "execution_count": null,
   "metadata": {
    "ExecuteTime": {
     "start_time": "2023-04-27T11:36:28.033448Z",
     "end_time": "2023-04-27T11:36:28.284983Z"
    }
   },
   "outputs": [],
   "source": [
    "def find_standard_deviation_on_numeric_field(data: list[dict], field_name: str) -> float:\n",
    "    \"\"\"\n",
    "    Find the standard deviation of a numeric field in a list of dictionaries.\n",
    "    The standard deviation is rounded to two decimal places.\n",
    "\n",
    "    Args:\n",
    "        data (list): A list of dictionaries.\n",
    "        field_name (str): The name of the field to find the standard deviation of.\n",
    "\n",
    "    Returns:\n",
    "        float: The standard deviation of the field.\n",
    "    \"\"\"\n",
    "    calculated_average = find_average_on_numeric_field(data, field_name)\n",
    "    sum_of_squared_differences = sum([(float(row[field_name]) - calculated_average) ** 2 for row in data])\n",
    "    return round((sum_of_squared_differences / len(data)) ** 0.5, 2)"
   ]
  },
  {
   "cell_type": "markdown",
   "metadata": {},
   "source": [
    "##### Percentiles"
   ]
  },
  {
   "cell_type": "code",
   "execution_count": null,
   "metadata": {
    "ExecuteTime": {
     "start_time": "2023-04-27T11:36:28.039537Z",
     "end_time": "2023-04-27T11:36:28.285017Z"
    }
   },
   "outputs": [],
   "source": [
    "def find_percentiles_on_numeric_field(data: list[dict], field_name: str) -> tuple[float, float, float]:\n",
    "    \"\"\"\n",
    "    Find the 25th, 50th, and 75th percentiles of a numeric field in a list of dictionaries.\n",
    "    The percentiles are rounded to two decimal places.\n",
    "\n",
    "    Args:\n",
    "        data (list): A list of dictionaries.\n",
    "        field_name (str): The name of the field to find the percentiles of.\n",
    "\n",
    "    Returns:\n",
    "        tuple: The 25th, 50th, and 75th percentiles of the field.\n",
    "    \"\"\"\n",
    "    sorted_data = sorted([float(row[field_name]) for row in data])\n",
    "\n",
    "    percentile_25 = round(sorted_data[len(sorted_data) // 4], 2)\n",
    "    percentile_50 = round(sorted_data[len(sorted_data) // 2], 2)\n",
    "    percentile_75 = round(sorted_data[len(sorted_data) // 4 * 3], 2)\n",
    "\n",
    "    return percentile_25, percentile_50, percentile_75"
   ]
  },
  {
   "cell_type": "markdown",
   "metadata": {},
   "source": [
    "##### Testing the functions\n",
    "\n",
    "Now that I've established the functions, I will use them to find the statistics for each field."
   ]
  },
  {
   "cell_type": "code",
   "execution_count": null,
   "metadata": {
    "ExecuteTime": {
     "start_time": "2023-04-27T11:36:28.052168Z",
     "end_time": "2023-04-27T11:36:28.286076Z"
    }
   },
   "outputs": [],
   "source": [
    "def find_numeric_field_statistics(numeric_fields: list[str]):\n",
    "    \"\"\"\n",
    "    Find the average, median, mode, standard deviation, and percentiles of a list of numeric fields.\n",
    "\n",
    "    Args:\n",
    "        numeric_fields (list): A list of numeric fields to find the statistics of.\n",
    "    \"\"\"\n",
    "    for numeric_field in numeric_fields:\n",
    "        average = find_average_on_numeric_field(INSURANCE_DATA, numeric_field)\n",
    "        median = find_median_on_numeric_field(INSURANCE_DATA, numeric_field)\n",
    "        mode, mode_count = find_mode_on_numeric_field(INSURANCE_DATA, numeric_field)\n",
    "        standard_deviation = find_standard_deviation_on_numeric_field(INSURANCE_DATA, numeric_field)\n",
    "        percentiles = find_percentiles_on_numeric_field(INSURANCE_DATA, numeric_field)\n",
    "\n",
    "        print(f'Field: {numeric_field}'\n",
    "              f'\\n\\tAverage: {average}'\n",
    "              f'\\n\\tMedian: {median}'\n",
    "              f'\\n\\tMode: {mode} ({mode_count} times)'\n",
    "              f'\\n\\tStandard Deviation: {standard_deviation}'\n",
    "              f'\\n\\tPercentiles:'\n",
    "              f'\\n\\t\\t25th: {percentiles[0]}'\n",
    "              f'\\n\\t\\t50th: {percentiles[1]}'\n",
    "              f'\\n\\t\\t75th: {percentiles[2]}'\n",
    "              f'\\n')\n",
    "\n",
    "\n",
    "NUMERIC_FIELDS = ['age', 'bmi', 'children', 'charges']\n",
    "find_numeric_field_statistics(NUMERIC_FIELDS)"
   ]
  },
  {
   "cell_type": "markdown",
   "metadata": {},
   "source": [
    "#### Box Plots\n",
    "\n",
    "For visualization purposes (Which is not an original objective of the project), I will create box plots for each of the numeric fields.\n",
    "\n",
    "I will use the [matplotlib](https://matplotlib.org/) library to create the box plots. I will also use matplotlib to create multiple plots later on."
   ]
  },
  {
   "cell_type": "code",
   "execution_count": null,
   "metadata": {
    "ExecuteTime": {
     "start_time": "2023-04-27T11:36:28.061169Z",
     "end_time": "2023-04-27T11:36:28.308602Z"
    }
   },
   "outputs": [],
   "source": [
    "def plot_box_plots_for_numerical_fields(data, numeric_fields):\n",
    "    from matplotlib import pyplot as plt\n",
    "\n",
    "    fig, axes = plt.subplots(2, 2, figsize=(10, 10))\n",
    "\n",
    "    for i, numeric_field in enumerate(numeric_fields):\n",
    "        plot_row = i // 2\n",
    "        plot_col = i % 2\n",
    "\n",
    "        values = [float(row[numeric_field.lower()]) for row in data]\n",
    "        axes[plot_row, plot_col].boxplot(values, vert=False)\n",
    "        axes[plot_row, plot_col].set_title(numeric_field)\n",
    "        axes[plot_row, plot_col].set_yticklabels([])\n",
    "\n",
    "    plt.show()\n",
    "\n",
    "\n",
    "plot_box_plots_for_numerical_fields(INSURANCE_DATA, NUMERIC_FIELDS)"
   ]
  },
  {
   "cell_type": "markdown",
   "metadata": {},
   "source": [
    "#### Histograms\n",
    "\n",
    "The last visualization I will create is a histogram for each of the numeric fields. This can further help us visualize the data before finding the relationships between the fields and other tests."
   ]
  },
  {
   "cell_type": "markdown",
   "metadata": {},
   "source": [
    "First, I will create a function to create the histograms."
   ]
  },
  {
   "cell_type": "code",
   "execution_count": null,
   "metadata": {
    "ExecuteTime": {
     "start_time": "2023-04-27T11:36:28.214567Z",
     "end_time": "2023-04-27T11:36:28.308685Z"
    }
   },
   "outputs": [],
   "source": [
    "def plot_histograms_for_numerical_fields(data, numeric_fields):\n",
    "    from matplotlib import pyplot as plt\n",
    "\n",
    "    fig, axes = plt.subplots(2, 2, figsize=(10, 10))\n",
    "\n",
    "    for i, numeric_field in enumerate(numeric_fields):\n",
    "        plot_row = i // 2\n",
    "        plot_col = i % 2\n",
    "\n",
    "        values = [float(row[numeric_field.lower()]) for row in data]\n",
    "\n",
    "        axes[plot_row, plot_col].hist(values)\n",
    "        axes[plot_row, plot_col].set_title(numeric_field)\n",
    "\n",
    "    plt.show()"
   ]
  },
  {
   "cell_type": "markdown",
   "metadata": {},
   "source": [
    "Then the plots can be created."
   ]
  },
  {
   "cell_type": "code",
   "execution_count": null,
   "metadata": {
    "ExecuteTime": {
     "start_time": "2023-04-27T11:36:28.217589Z",
     "end_time": "2023-04-27T11:36:28.463029Z"
    }
   },
   "outputs": [],
   "source": [
    "plot_histograms_for_numerical_fields(INSURANCE_DATA, NUMERIC_FIELDS)"
   ]
  },
  {
   "cell_type": "markdown",
   "metadata": {},
   "source": [
    "### Statistics (Categorical Fields)\n",
    "\n",
    "Now that I've found the statistics for the numeric fields, I will find the statistics for the categorical fields.\n",
    "\n",
    "Unlike the numeric fields, the categorical fields will not have a median, mode, or standard deviation. However, they will have a mode with its corresponding count.\n",
    "\n",
    "For this, I will create a function to find the mode of a categorical field."
   ]
  },
  {
   "cell_type": "markdown",
   "metadata": {},
   "source": [
    "#### Mode"
   ]
  },
  {
   "cell_type": "code",
   "execution_count": null,
   "metadata": {
    "ExecuteTime": {
     "start_time": "2023-04-27T11:36:28.464106Z",
     "end_time": "2023-04-27T11:36:28.467720Z"
    }
   },
   "outputs": [],
   "source": [
    "def find_mode_on_categorical_field(data: list[dict], field_name: str):\n",
    "    \"\"\"\n",
    "    Find the mode of a categorical field in a list of dictionaries.\n",
    "\n",
    "    Args:\n",
    "        data (list): A list of dictionaries.\n",
    "        field_name (str): The name of the field to find the mode of.\n",
    "\n",
    "    Returns:\n",
    "        tuple: The mode of the field and the number of times the mode appears.\n",
    "    \"\"\"\n",
    "    value_counts = {}\n",
    "    for row in data:\n",
    "        if row[field_name] in value_counts:\n",
    "            value_counts[row[field_name]] += 1\n",
    "        else:\n",
    "            value_counts[row[field_name]] = 1\n",
    "\n",
    "    calculated_mode = max(value_counts, key=value_counts.get)\n",
    "    return calculated_mode, value_counts[calculated_mode]"
   ]
  },
  {
   "cell_type": "markdown",
   "metadata": {},
   "source": [
    "Now that I've created the function, I will use it to find the mode of each categorical field."
   ]
  },
  {
   "cell_type": "code",
   "execution_count": null,
   "metadata": {
    "ExecuteTime": {
     "start_time": "2023-04-27T11:36:28.470181Z",
     "end_time": "2023-04-27T11:36:28.474999Z"
    }
   },
   "outputs": [],
   "source": [
    "def find_categorical_field_statistics(categorical_fields: list[str]):\n",
    "    \"\"\"\n",
    "    Find the mode of a categorical field in a list of dictionaries.\n",
    "\n",
    "    Args:\n",
    "        categorical_fields (list): A list of categorical fields to find the mode of.\n",
    "    \"\"\"\n",
    "    for categorical_field in categorical_fields:\n",
    "        mode, mode_count = find_mode_on_categorical_field(INSURANCE_DATA, categorical_field)\n",
    "        print(f'Field: {categorical_field}'\n",
    "              f'\\n\\tMode: {mode} ({mode_count} times)'\n",
    "              f'\\n')\n",
    "\n",
    "\n",
    "CATEGORICAL_FIELDS = ['sex', 'smoker', 'region']\n",
    "find_categorical_field_statistics(CATEGORICAL_FIELDS)"
   ]
  },
  {
   "cell_type": "markdown",
   "metadata": {},
   "source": [
    "### Relationships\n",
    "\n",
    "Now that I've found the statistics for the fields, I will find the relationships between the fields.\n",
    "\n",
    "These relationships will be first order relationships. This means that I will only be looking at the relationship between two fields at a time.\n",
    "\n",
    "The relationships I will be looking at are:\n",
    "- Age and BMI\n",
    "- Age and Children\n",
    "- Age and Charges\n",
    "- BMI and Children\n",
    "- BMI and Charges\n",
    "- Children and Charges\n",
    "\n",
    "Additionally, for categorical fields, I will be looking at the relationship between the categorical field's different unique values and the charges, which are:\n",
    "- Sex: \"male\" or \"female\"\n",
    "- Smoker: \"yes\" or \"no\"\n",
    "- Region: \"northeast\", \"northwest\", \"southeast\", or \"southwest\""
   ]
  },
  {
   "cell_type": "markdown",
   "metadata": {},
   "source": [
    "#### Relationships (Numeric Fields)\n",
    "\n",
    "To find the relationships between the numeric fields, I will create a function to find the lowest and highest values of a field. This will be used to divide the leading field into groups. The leading field is the field that will be divided into groups. The trailing field is the field that will be compared to the groups of the leading fields."
   ]
  },
  {
   "cell_type": "code",
   "execution_count": null,
   "metadata": {
    "ExecuteTime": {
     "start_time": "2023-04-27T11:36:28.476145Z",
     "end_time": "2023-04-27T11:36:28.479240Z"
    }
   },
   "outputs": [],
   "source": [
    "def find_lowest_and_highest_values(data: list[dict], field_name: str):\n",
    "    \"\"\"\n",
    "    Find the lowest and highest values of a field in a list of dictionaries.\n",
    "\n",
    "    Args:\n",
    "        data (list): A list of dictionaries.\n",
    "        field_name (str): The name of the field to find the lowest and highest values of.\n",
    "\n",
    "    Returns:\n",
    "        tuple: The lowest and highest values of the field.\n",
    "    \"\"\"\n",
    "    values = [float(row[field_name]) for row in data]\n",
    "    return min(values), max(values)"
   ]
  },
  {
   "cell_type": "markdown",
   "metadata": {},
   "source": [
    "I will now make a function that takes a dataset, a leading field, a trailing field, and the number of groups to divide the leading field into. This function will divide the leading field into groups."
   ]
  },
  {
   "cell_type": "code",
   "execution_count": null,
   "metadata": {
    "ExecuteTime": {
     "start_time": "2023-04-27T11:36:28.481295Z",
     "end_time": "2023-04-27T11:36:28.521971Z"
    }
   },
   "outputs": [],
   "source": [
    "def divide_leading_field_into_groups(data: list[dict], leading_field_name: str, num_groups: int):\n",
    "    \"\"\"\n",
    "    Divide a leading field into groups.\n",
    "\n",
    "    Args:\n",
    "        data (list): A list of dictionaries.\n",
    "        leading_field_name (str): The name of the leading field.\n",
    "        num_groups (int): The number of groups to divide the leading field into.\n",
    "\n",
    "    Returns:\n",
    "        list: A list of tuples, where each tuple contains the lower and upper bounds of a group.\n",
    "    \"\"\"\n",
    "    lowest_value, highest_value = find_lowest_and_highest_values(data, leading_field_name)\n",
    "\n",
    "    group_size = (highest_value - lowest_value) // num_groups  # use integer division to get an integer group size\n",
    "    groups = [(lowest_value + (group_size * i), lowest_value + (group_size * (i + 1) - 1))\n",
    "              for i in range(num_groups)]\n",
    "    groups.append((lowest_value + (group_size * num_groups), highest_value))\n",
    "\n",
    "    return groups"
   ]
  },
  {
   "cell_type": "markdown",
   "metadata": {},
   "source": [
    "Now I can implement a function that takes in a dataset, a leading field, a trailing field, and the number of groups to divide the leading field into. This function will return the statistics of the trailing field for each group of the leading fields. I will also implement sub-functions to find the median, mode, standard deviation and percentiles of a list of values to find the statistics of the trailing field."
   ]
  },
  {
   "cell_type": "code",
   "execution_count": null,
   "metadata": {
    "ExecuteTime": {
     "start_time": "2023-04-27T11:36:28.485100Z",
     "end_time": "2023-04-27T11:36:28.522155Z"
    }
   },
   "outputs": [],
   "source": [
    "def find_median(values: list[float]):\n",
    "    values.sort()\n",
    "    if len(values) % 2 == 0:\n",
    "        calculated_median = (values[len(values) // 2] + values[len(values) // 2 - 1]) / 2\n",
    "    else:\n",
    "        calculated_median = values[len(values) // 2]\n",
    "    return calculated_median\n",
    "\n",
    "\n",
    "def find_mode(values: list[float]):\n",
    "    value_counts = {}\n",
    "\n",
    "    for value in values:\n",
    "        if value in value_counts:\n",
    "            value_counts[value] += 1\n",
    "        else:\n",
    "            value_counts[value] = 1\n",
    "    calculated_mode = max(value_counts, key=value_counts.get)\n",
    "    return calculated_mode\n",
    "\n",
    "\n",
    "def find_average(values: list[float]):\n",
    "    return sum(values) / len(values)\n",
    "\n",
    "\n",
    "def find_standard_deviation(values: list[float]):\n",
    "    calculated_average = find_average(values)\n",
    "    return (sum([(value - calculated_average) ** 2 for value in values]) / len(values)) ** 0.5\n",
    "\n",
    "\n",
    "def find_percentiles(values: list[float]):\n",
    "    values.sort()\n",
    "    percentile_25 = values[len(values) // 4]\n",
    "    percentile_50 = values[len(values) // 2]\n",
    "    percentile_75 = values[len(values) // 4 * 3]\n",
    "    return percentile_25, percentile_50, percentile_75\n",
    "\n",
    "\n",
    "def find_relationship_between_two_numeric_fields(data: list[dict],\n",
    "                                                 leading_field_name: str,\n",
    "                                                 trailing_field_name: str,\n",
    "                                                 num_groups: int):\n",
    "    \"\"\"\n",
    "    Find the relationship between two numeric fields.\n",
    "\n",
    "    Args:\n",
    "        data (list): A list of dictionaries.\n",
    "        leading_field_name (str): The name of the leading field.\n",
    "        trailing_field_name (str): The name of the trailing field.\n",
    "        num_groups (int): The number of groups to divide the leading field into.\n",
    "\n",
    "    Returns:\n",
    "        dict: A dictionary where the keys are the groups of the leading fields and the values are the statistics of the trailing field.\n",
    "    \"\"\"\n",
    "    groups = divide_leading_field_into_groups(data, leading_field_name, num_groups)\n",
    "    calculated_statistics = {}\n",
    "\n",
    "    for group_name in groups:\n",
    "        values = [float(row[trailing_field_name]) for row in data if\n",
    "                  group_name[0] <= float(row[leading_field_name]) <= group_name[1]]\n",
    "\n",
    "        if len(values) != 0:\n",
    "            calculated_statistics[group_name] = [\n",
    "                sum(values) / len(values),\n",
    "                find_median(values),\n",
    "                find_mode(values),\n",
    "                find_standard_deviation(values),\n",
    "                find_percentiles(values)\n",
    "            ]\n",
    "\n",
    "    return calculated_statistics"
   ]
  },
  {
   "cell_type": "markdown",
   "source": [
    "Finally, I created a function to standardize outputting the statistics."
   ],
   "metadata": {
    "collapsed": false
   }
  },
  {
   "cell_type": "code",
   "execution_count": null,
   "outputs": [],
   "source": [
    "def show_relationship_statistics(data: list[dict],\n",
    "                                 leading_field_name: str,\n",
    "                                 trailing_field_name: str,\n",
    "                                 num_groups: int):\n",
    "    \"\"\"\n",
    "    Show the relationship statistics between two numeric fields.\n",
    "\n",
    "    Args:\n",
    "        data (list): A list of dictionaries.\n",
    "        leading_field_name (str): The name of the leading field.\n",
    "        trailing_field_name (str): The name of the trailing field.\n",
    "        num_groups (int): The number of groups to divide the leading field into.\n",
    "    \"\"\"\n",
    "    calculated_statistics = find_relationship_between_two_numeric_fields(data,\n",
    "                                                                         leading_field_name,\n",
    "                                                                         trailing_field_name,\n",
    "                                                                         num_groups)\n",
    "    for group, statistics in calculated_statistics.items():\n",
    "        print(f'Group: {group}'\n",
    "              f'\\n\\tAverage: {statistics[0]}'\n",
    "              f'\\n\\tMedian: {statistics[1]}'\n",
    "              f'\\n\\tMode: {statistics[2]}'\n",
    "              f'\\n\\tStandard Deviation: {statistics[3]}'\n",
    "              f'\\n\\tPercentiles:'\n",
    "              f'\\n\\t\\t25th: {statistics[4][0]}'\n",
    "              f'\\n\\t\\t50th: {statistics[4][1]}'\n",
    "              f'\\n\\t\\t75th: {statistics[4][2]}'\n",
    "              f'\\n')"
   ],
   "metadata": {
    "collapsed": false,
    "ExecuteTime": {
     "start_time": "2023-04-27T11:36:28.495216Z",
     "end_time": "2023-04-27T11:36:28.522592Z"
    }
   }
  },
  {
   "cell_type": "markdown",
   "metadata": {},
   "source": [
    "##### Age and BMI"
   ]
  },
  {
   "cell_type": "code",
   "execution_count": null,
   "metadata": {
    "ExecuteTime": {
     "start_time": "2023-04-27T11:36:28.499745Z",
     "end_time": "2023-04-27T11:36:28.522954Z"
    }
   },
   "outputs": [],
   "source": [
    "show_relationship_statistics(INSURANCE_DATA, 'age', 'bmi', 10)"
   ]
  },
  {
   "cell_type": "markdown",
   "metadata": {},
   "source": [
    "##### Age and Children"
   ]
  },
  {
   "cell_type": "code",
   "execution_count": null,
   "metadata": {
    "ExecuteTime": {
     "start_time": "2023-04-27T11:36:28.510397Z",
     "end_time": "2023-04-27T11:36:28.523044Z"
    }
   },
   "outputs": [],
   "source": [
    "show_relationship_statistics(INSURANCE_DATA, 'age', 'children', 10)"
   ]
  },
  {
   "cell_type": "markdown",
   "metadata": {},
   "source": [
    "##### Age and Charges"
   ]
  },
  {
   "cell_type": "code",
   "execution_count": null,
   "metadata": {
    "ExecuteTime": {
     "start_time": "2023-04-27T11:36:28.513528Z",
     "end_time": "2023-04-27T11:36:28.523110Z"
    }
   },
   "outputs": [],
   "source": [
    "show_relationship_statistics(INSURANCE_DATA, 'age', 'charges', 10)"
   ]
  },
  {
   "cell_type": "markdown",
   "metadata": {},
   "source": [
    "##### BMI and Children"
   ]
  },
  {
   "cell_type": "code",
   "execution_count": null,
   "metadata": {
    "ExecuteTime": {
     "start_time": "2023-04-27T11:36:28.524512Z",
     "end_time": "2023-04-27T11:36:28.529577Z"
    }
   },
   "outputs": [],
   "source": [
    "show_relationship_statistics(INSURANCE_DATA, 'bmi', 'children', 10)"
   ]
  },
  {
   "cell_type": "markdown",
   "metadata": {},
   "source": [
    "##### BMI and Charges"
   ]
  },
  {
   "cell_type": "code",
   "execution_count": null,
   "metadata": {
    "ExecuteTime": {
     "start_time": "2023-04-27T11:36:28.527107Z",
     "end_time": "2023-04-27T11:36:28.534295Z"
    }
   },
   "outputs": [],
   "source": [
    "show_relationship_statistics(INSURANCE_DATA, 'bmi', 'charges', 10)"
   ]
  },
  {
   "cell_type": "markdown",
   "metadata": {},
   "source": [
    "##### Children and Charges"
   ]
  },
  {
   "cell_type": "code",
   "execution_count": null,
   "metadata": {
    "ExecuteTime": {
     "start_time": "2023-04-27T11:36:28.536069Z",
     "end_time": "2023-04-27T11:36:28.538649Z"
    }
   },
   "outputs": [],
   "source": [
    "show_relationship_statistics(INSURANCE_DATA, 'children', 'charges', 10)"
   ]
  },
  {
   "cell_type": "markdown",
   "metadata": {},
   "source": [
    "#### Relationships (Categorical Fields)"
   ]
  },
  {
   "cell_type": "markdown",
   "metadata": {},
   "source": [
    "For this section, I will create a function that takes in the dataset and the field name and returns the statistics by using the functions for numeric fields I created earlier. This is possible since we're only looking at the relationship between the field and the charges."
   ]
  },
  {
   "cell_type": "code",
   "execution_count": null,
   "metadata": {
    "ExecuteTime": {
     "start_time": "2023-04-27T11:36:28.541348Z",
     "end_time": "2023-04-27T11:36:28.543012Z"
    }
   },
   "outputs": [],
   "source": [
    "def find_statistics_on_charges_for_categorical_field(data: list[dict], field_name: str):\n",
    "    \"\"\"\n",
    "    Find the average, median, mode, standard deviation and percentiles of the charges for each value of a categorical field in a list of dictionaries.\n",
    "\n",
    "    Args:\n",
    "        data (list): A list of dictionaries.\n",
    "        field_name (str): The name of the field to find the statistics of.\n",
    "\n",
    "    Returns:\n",
    "        dict: A dictionary with the values of the categorical field as keys and a list of the average, median, mode, and standard deviation of the charges for each value of the categorical field as values.\n",
    "    \"\"\"\n",
    "    # Find the unique values of the field\n",
    "    unique_values = set([row[field_name] for row in data])\n",
    "\n",
    "    # Create a dictionary to store the statistics\n",
    "    statistics = {}\n",
    "\n",
    "    # Find the average, median, mode, and standard deviation of the charges for each value of the categorical field\n",
    "    for value in unique_values:\n",
    "        statistics[value] = {}\n",
    "        statistics[value]['average'] = find_average_on_numeric_field(\n",
    "            [row for row in data if row[field_name] == value], 'charges')\n",
    "        statistics[value]['median'] = find_median_on_numeric_field(\n",
    "            [row for row in data if row[field_name] == value], 'charges')\n",
    "        statistics[value]['mode'] = find_mode_on_numeric_field(\n",
    "            [row for row in data if row[field_name] == value], 'charges')\n",
    "        statistics[value]['standard deviation'] = find_standard_deviation_on_numeric_field(\n",
    "            [row for row in data if row[field_name] == value], 'charges')\n",
    "        statistics[value]['percentiles'] = find_percentiles_on_numeric_field(\n",
    "            [row for row in data if row[field_name] == value], 'charges')\n",
    "\n",
    "    return statistics"
   ]
  },
  {
   "cell_type": "markdown",
   "metadata": {},
   "source": [
    "Now that I've created the function, I will use it to find the statistics for each categorical field."
   ]
  },
  {
   "cell_type": "code",
   "execution_count": null,
   "metadata": {
    "ExecuteTime": {
     "start_time": "2023-04-27T11:36:28.544681Z",
     "end_time": "2023-04-27T11:36:28.607097Z"
    }
   },
   "outputs": [],
   "source": [
    "def show_relationship_statistics_for_categorical_field(data: list[dict], field_name: str):\n",
    "    \"\"\"\n",
    "    Show the relationship statistics between a categorical field and the charges.\n",
    "\n",
    "    Args:\n",
    "        data (list): A list of dictionaries.\n",
    "        field_name (str): The name of the field to find the statistics of.\n",
    "    \"\"\"\n",
    "    calculated_statistics = find_statistics_on_charges_for_categorical_field(data, field_name)\n",
    "\n",
    "    for value, statistics in calculated_statistics.items():\n",
    "        print(f'Value: {value}'\n",
    "              f'\\n\\tAverage: {statistics[\"average\"]}'\n",
    "              f'\\n\\tMedian: {statistics[\"median\"]}'\n",
    "              f'\\n\\tMode: {statistics[\"mode\"]}'\n",
    "              f'\\n\\tStandard Deviation: {statistics[\"standard deviation\"]}'\n",
    "              f'\\n\\tPercentiles:'\n",
    "              f'\\n\\t\\t25th: {statistics[\"percentiles\"][0]}'\n",
    "              f'\\n\\t\\t50th: {statistics[\"percentiles\"][1]}'\n",
    "              f'\\n\\t\\t75th: {statistics[\"percentiles\"][2]}'\n",
    "              f'\\n')"
   ]
  },
  {
   "cell_type": "markdown",
   "metadata": {},
   "source": [
    "We can also plot the statistics for each categorical field using a box plot. For this, I will create a function."
   ]
  },
  {
   "cell_type": "code",
   "execution_count": null,
   "metadata": {
    "ExecuteTime": {
     "start_time": "2023-04-27T11:36:28.551859Z",
     "end_time": "2023-04-27T11:36:28.876237Z"
    }
   },
   "outputs": [],
   "source": [
    "def create_box_plot_for_categorical_field(data: list[dict], field_name: str):\n",
    "    \"\"\"\n",
    "    Create a box plot for each value of a categorical field in a list of dictionaries.\n",
    "\n",
    "    Args:\n",
    "        data (list): A list of dictionaries.\n",
    "        field_name (str): The name of the field to create the box plot for.\n",
    "    \"\"\"\n",
    "    from matplotlib import pyplot as plt\n",
    "\n",
    "    unique_values = set([row[field_name] for row in data])\n",
    "    fig, axes = plt.subplots(1, len(unique_values), figsize=(10, 5))\n",
    "\n",
    "    for i, value in enumerate(unique_values):\n",
    "        values = [float(row['charges']) for row in data if row[field_name] == value]\n",
    "        axes[i].boxplot(values, vert=False)\n",
    "        axes[i].set_title(value)\n",
    "        axes[i].set_yticklabels([])\n",
    "\n",
    "    plt.show()\n",
    "\n",
    "\n",
    "for field in CATEGORICAL_FIELDS:\n",
    "    create_box_plot_for_categorical_field(INSURANCE_DATA, field)"
   ]
  },
  {
   "cell_type": "markdown",
   "metadata": {},
   "source": [
    "### Conclusion\n",
    "\n",
    "In this notebook, I've found the statistics for the fields in the dataset and found the relationships between the fields.\n",
    "\n",
    "The statistics I found were:\n",
    "- Average\n",
    "- Median\n",
    "- Mode\n",
    "- Standard Deviation\n",
    "- Percentiles\n",
    "\n",
    "The relationships I explored were:\n",
    "- Age and BMI\n",
    "- Age and Children\n",
    "- Age and Charges\n",
    "- BMI and Children\n",
    "- BMI and Charges\n",
    "\n",
    "I also found the relationship between the categorical fields and the charges.\n",
    "\n",
    "This is the end of the project; I will not be analyzing the data that I've found, since that is not the purpose of this project."
   ]
  }
 ],
 "metadata": {
  "kernelspec": {
   "display_name": "Python 3 (ipykernel)",
   "language": "python",
   "name": "python3"
  },
  "language_info": {
   "codemirror_mode": {
    "name": "ipython",
    "version": 3
   },
   "file_extension": ".py",
   "mimetype": "text/x-python",
   "name": "python",
   "nbconvert_exporter": "python",
   "pygments_lexer": "ipython3",
   "version": "3.10.9"
  }
 },
 "nbformat": 4,
 "nbformat_minor": 1
}
